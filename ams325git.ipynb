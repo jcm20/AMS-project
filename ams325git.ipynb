{
 "cells": [
  {
   "cell_type": "code",
   "execution_count": null,
   "id": "55ad26a8-f889-4f19-8825-b63961b84e3c",
   "metadata": {},
   "outputs": [],
   "source": [
    "import pandas as pd\n",
    "import numpy as np\n",
    "\n",
    "import statsmodels.api as sm \n",
    "import statsmodels.formula.api as smf\n",
    "import statsmodels.graphics.api as smg\n",
    "\n",
    "import matplotlib.pyplot as plt\n",
    "%matplotlib inline\n",
    "\n",
    "import patsy\n",
    "import seaborn as sns\n",
    "\n",
    "from sklearn import datasets\n",
    "from sklearn import model_selection \n",
    "from sklearn import linear_model\n",
    "\n",
    "import sklearn\n",
    "print('The scikit-learn version is {}.'.format(sklearn.__version__))\n",
    "\n",
    "from sklearn.metrics import mean_squared_error, mean_absolute_error, r2_score\n",
    "from sklearn.model_selection import train_test_split\n",
    "from sklearn.preprocessing import StandardScaler\n",
    "from sklearn.linear_model import LinearRegression"
   ]
  },
  {
   "cell_type": "code",
   "execution_count": null,
   "id": "a35e11aa-8bbb-4f75-8fc2-52d0475acbc0",
   "metadata": {},
   "outputs": [],
   "source": [
    "df = pd.read_csv(\"house.csv\")\n",
    "df.head()"
   ]
  },
  {
   "cell_type": "code",
   "execution_count": null,
   "id": "611738ea-56d8-42e1-bb03-18e4b4df7b22",
   "metadata": {},
   "outputs": [],
   "source": [
    "#df.info()\n",
    "df.head()\n",
    "#df.tail()"
   ]
  },
  {
   "cell_type": "code",
   "execution_count": null,
   "id": "c666995c-d2fd-4d50-b2a7-9b6899e7ab05",
   "metadata": {},
   "outputs": [],
   "source": [
    "df.describe()"
   ]
  },
  {
   "cell_type": "code",
   "execution_count": null,
   "id": "2068fb22-8ff9-49cb-8132-fa17ab3f35b0",
   "metadata": {},
   "outputs": [],
   "source": [
    "sns.heatmap(df.corr(), annot=True, cmap=\"coolwarm\", linewidths=0.5)\n",
    "plt.title(\"correlation map\")\n",
    "plt.figure(figsize=(10, 10))\n",
    "#plt.savefig(\"Correlation_map\")\n",
    "plt.show() "
   ]
  },
  {
   "cell_type": "code",
   "execution_count": null,
   "id": "72f622b9-e629-44b5-b090-fcb54515a6f6",
   "metadata": {},
   "outputs": [],
   "source": [
    "df[\"bedroom_count*net_sqm\"] =df[\"net_sqm\"] * df[\"bedroom_count\"]\n",
    "df[\"center_distance*metro_distance\"] = df[\"center_distance\"] * df[\"metro_distance\"]  "
   ]
  },
  {
   "cell_type": "code",
   "execution_count": null,
   "id": "400e3750-9995-4221-a242-c2308a365052",
   "metadata": {},
   "outputs": [],
   "source": [
    "df.head()"
   ]
  },
  {
   "cell_type": "code",
   "execution_count": null,
   "id": "9dd31ac8-f0a0-41a0-a20f-806fb654b8a5",
   "metadata": {},
   "outputs": [],
   "source": [
    "y = df[\"price\"]\n",
    "X = df[[\"bedroom_count\",\"net_sqm\", \"center_distance\",\"metro_distance\", \"floor\", \"age\", \"bedroom_count*net_sqm\", \"center_distance*metro_distance\"]]\n",
    "X = sm.add_constant(X)\n",
    "model = sm.OLS(y, X)\n",
    "result = model.fit()\n",
    "print(result.summary())"
   ]
  },
  {
   "cell_type": "code",
   "execution_count": null,
   "id": "3646a804-0ea0-4fdd-b569-e4a9552771ef",
   "metadata": {},
   "outputs": [],
   "source": [
    "X_train, X_test, y_train, y_test = \\\n",
    "model_selection.train_test_split(X, y, train_size=0.8, random_state=42)\n",
    "X_train.shape, y_train.shape\n",
    "X_test.shape, y_test.shape\n",
    "model = linear_model.LinearRegression() \n",
    "model.fit(X_train, y_train)\n",
    "y_pred = model.predict(X_test)"
   ]
  },
  {
   "cell_type": "code",
   "execution_count": null,
   "id": "8c043bea-dc27-4497-abee-1c48efa4f377",
   "metadata": {},
   "outputs": [],
   "source": [
    "print(model.score(X_train, y_train))\n",
    "print(model.score(X_test, y_test))"
   ]
  },
  {
   "cell_type": "code",
   "execution_count": null,
   "id": "f49419b2-39a7-4b35-8bf5-92e178c526b7",
   "metadata": {},
   "outputs": [],
   "source": [
    "def sse(resid):\n",
    "    return np.sum(resid**2)  \n",
    "resid_train = y_train - model.predict(X_train)\n",
    "resid_test = y_test - model.predict(X_test)\n",
    "sse_train = sse(resid_train)\n",
    "sse_test = sse(resid_test)\n",
    "mse = mean_squared_error(y_test, y_pred)\n",
    "mae = mean_absolute_error(y_test, y_pred)\n",
    "print(\"Sum of squared error:\", sse_train, sse_test)\n",
    "print(\"Mean Squared Error:\", mse)\n",
    "print(\"Mean Absolute Error:\", mae)"
   ]
  },
  {
   "cell_type": "code",
   "execution_count": null,
   "id": "40e14932-eee1-4437-843b-77e069ee375e",
   "metadata": {},
   "outputs": [],
   "source": [
    "def plot_residuals_and_coeff(resid_train, resid_test, coeff):\n",
    "    fig, axes = plt.subplots(1, 3, figsize=(12, 3))\n",
    "    axes[0].bar(np.arange(len(resid_train)), resid_train)\n",
    "    axes[0].set_xlabel(\"sample number\")\n",
    "    axes[0].set_ylabel(\"residual\")\n",
    "    axes[0].set_title(\"training data\")\n",
    "    axes[1].bar(np.arange(len(resid_test)), resid_test)\n",
    "    axes[1].set_xlabel(\"sample number\")\n",
    "    axes[1].set_ylabel(\"residual\")\n",
    "    axes[1].set_title(\"testing data\")\n",
    "    axes[2].bar(np.arange(len(coeff)), coeff)\n",
    "    axes[2].set_xlabel(\"coefficient number\")\n",
    "    axes[2].set_ylabel(\"coefficient\")\n",
    "    fig.tight_layout()\n",
    "    #plt.savefig(\"residualandcoefficient\")\n",
    "    return fig, axes\n",
    "fig, ax = plot_residuals_and_coeff(resid_train, resid_test, model.coef_)\n",
    "plt.show() "
   ]
  },
  {
   "cell_type": "code",
   "execution_count": null,
   "id": "b3054918-3d30-4911-b6a8-8059acd1d2a0",
   "metadata": {},
   "outputs": [],
   "source": [
    "plt.figure(figsize=(8, 6))\n",
    "plt.scatter(y_test, y_pred, alpha=0.5)\n",
    "plt.plot([y_test.min(), y_test.max()], [y_test.min(), y_test.max()], 'r--', lw=2)\n",
    "plt.xlabel('Actual')\n",
    "plt.ylabel('Predicted')\n",
    "plt.legend(['Data Points', 'Prediction Line'], loc='upper left', fontsize=14)\n",
    "plt.title('Actual vs Predicted')\n",
    "#plt.savefig(\"actualvpredictedval\")\n",
    "plt.show() "
   ]
  },
  {
   "cell_type": "code",
   "execution_count": null,
   "id": "1340b15c-38ac-4189-a481-13c06b51ba2b",
   "metadata": {},
   "outputs": [],
   "source": [
    "fig, ax = plt.subplots(figsize=(8, 4))\n",
    "smg.qqplot(result.resid, line=\"s\", ax=ax)\n",
    "ax.set_title(\"QQ Plot\", fontsize=14, fontweight=\"bold\")\n",
    "fig.tight_layout()\n",
    "#plt.savefig(\"qqplot\")\n",
    "plt.show() "
   ]
  },
  {
   "cell_type": "code",
   "execution_count": null,
   "id": "8e51149b-13bb-45c1-b8e0-08fba9459cd0",
   "metadata": {},
   "outputs": [],
   "source": [
    "residuals = y_test - y_pred\n",
    "plt.subplots(figsize=(8, 6))\n",
    "fig = sns.scatterplot(x=y_pred, y=residuals)\n",
    "fig.set_xlabel(\"Fitted Values\", fontsize=12, fontweight=\"bold\")\n",
    "fig.set_ylabel(\"Residuals\", fontsize=12, fontweight=\"bold\")\n",
    "fig.set_title(\"Fitted Values v. Residuals\", fontsize=14, fontweight=\"bold\")\n",
    "fig.axhline(0)\n",
    "#plt.savefig(\"fitvresiduals\")\n",
    "plt.show() "
   ]
  },
  {
   "cell_type": "code",
   "execution_count": null,
   "id": "e22fa533-5ff1-4060-a568-9f00e391996c",
   "metadata": {},
   "outputs": [],
   "source": [
    "from sklearn.linear_model import Ridge\n",
    "model = Ridge(alpha=150.0)\n",
    "model.fit(X_train, y_train)\n",
    "model.score(X_train, y_train), model.score(X_test, y_test)  "
   ]
  },
  {
   "cell_type": "code",
   "execution_count": null,
   "id": "774528e4-f7ad-4f83-8eaa-3524783da385",
   "metadata": {},
   "outputs": [],
   "source": [
    "from sklearn.linear_model import Lasso\n",
    "model = Lasso(alpha=100.0)\n",
    "model.fit(X_train, y_train)\n",
    "model.score(X_train, y_train), model.score(X_test, y_test)"
   ]
  },
  {
   "cell_type": "code",
   "execution_count": null,
   "id": "f6db1a23-c91d-4c25-bd30-0103a95a74e5",
   "metadata": {},
   "outputs": [],
   "source": [
    "from sklearn.linear_model import ElasticNetCV\n",
    "model = ElasticNetCV(cv=2)\n",
    "model.fit(X_train,y_train)\n",
    "model.alpha_\n",
    "model.l1_ratio_\n",
    "model.score(X_train, y_train), model.score(X_test, y_test)  "
   ]
  }
 ],
 "metadata": {
  "kernelspec": {
   "display_name": "Python [conda env:base] *",
   "language": "python",
   "name": "conda-base-py"
  },
  "language_info": {
   "codemirror_mode": {
    "name": "ipython",
    "version": 3
   },
   "file_extension": ".py",
   "mimetype": "text/x-python",
   "name": "python",
   "nbconvert_exporter": "python",
   "pygments_lexer": "ipython3",
   "version": "3.12.4"
  }
 },
 "nbformat": 4,
 "nbformat_minor": 5
}
